{
  "nbformat": 4,
  "nbformat_minor": 0,
  "metadata": {
    "colab": {
      "provenance": [],
      "authorship_tag": "ABX9TyOxBIINuFG7ahfTUEWA+cdY",
      "include_colab_link": true
    },
    "kernelspec": {
      "name": "python3",
      "display_name": "Python 3"
    },
    "language_info": {
      "name": "python"
    }
  },
  "cells": [
    {
      "cell_type": "markdown",
      "metadata": {
        "id": "view-in-github",
        "colab_type": "text"
      },
      "source": [
        "<a href=\"https://colab.research.google.com/github/CYBORG-YASHRAJ/CYBORG-YASHRAJ/blob/main/BCMI_EYE_TRACKING.ipynb\" target=\"_parent\"><img src=\"https://colab.research.google.com/assets/colab-badge.svg\" alt=\"Open In Colab\"/></a>"
      ]
    },
    {
      "cell_type": "code",
      "execution_count": 18,
      "metadata": {
        "colab": {
          "base_uri": "https://localhost:8080/"
        },
        "id": "IKwir0wlNF0L",
        "outputId": "7b893e61-efe5-4c52-ec6c-4a2312273da1"
      },
      "outputs": [
        {
          "output_type": "stream",
          "name": "stdout",
          "text": [
            "Requirement already satisfied: scipy in /usr/local/lib/python3.11/dist-packages (1.15.3)\n",
            "Requirement already satisfied: numpy in /usr/local/lib/python3.11/dist-packages (2.0.2)\n",
            "Requirement already satisfied: tensorflow in /usr/local/lib/python3.11/dist-packages (2.18.0)\n",
            "Requirement already satisfied: absl-py>=1.0.0 in /usr/local/lib/python3.11/dist-packages (from tensorflow) (1.4.0)\n",
            "Requirement already satisfied: astunparse>=1.6.0 in /usr/local/lib/python3.11/dist-packages (from tensorflow) (1.6.3)\n",
            "Requirement already satisfied: flatbuffers>=24.3.25 in /usr/local/lib/python3.11/dist-packages (from tensorflow) (25.2.10)\n",
            "Requirement already satisfied: gast!=0.5.0,!=0.5.1,!=0.5.2,>=0.2.1 in /usr/local/lib/python3.11/dist-packages (from tensorflow) (0.6.0)\n",
            "Requirement already satisfied: google-pasta>=0.1.1 in /usr/local/lib/python3.11/dist-packages (from tensorflow) (0.2.0)\n",
            "Requirement already satisfied: libclang>=13.0.0 in /usr/local/lib/python3.11/dist-packages (from tensorflow) (18.1.1)\n",
            "Requirement already satisfied: opt-einsum>=2.3.2 in /usr/local/lib/python3.11/dist-packages (from tensorflow) (3.4.0)\n",
            "Requirement already satisfied: packaging in /usr/local/lib/python3.11/dist-packages (from tensorflow) (24.2)\n",
            "Requirement already satisfied: protobuf!=4.21.0,!=4.21.1,!=4.21.2,!=4.21.3,!=4.21.4,!=4.21.5,<6.0.0dev,>=3.20.3 in /usr/local/lib/python3.11/dist-packages (from tensorflow) (5.29.5)\n",
            "Requirement already satisfied: requests<3,>=2.21.0 in /usr/local/lib/python3.11/dist-packages (from tensorflow) (2.32.3)\n",
            "Requirement already satisfied: setuptools in /usr/local/lib/python3.11/dist-packages (from tensorflow) (75.2.0)\n",
            "Requirement already satisfied: six>=1.12.0 in /usr/local/lib/python3.11/dist-packages (from tensorflow) (1.17.0)\n",
            "Requirement already satisfied: termcolor>=1.1.0 in /usr/local/lib/python3.11/dist-packages (from tensorflow) (3.1.0)\n",
            "Requirement already satisfied: typing-extensions>=3.6.6 in /usr/local/lib/python3.11/dist-packages (from tensorflow) (4.14.0)\n",
            "Requirement already satisfied: wrapt>=1.11.0 in /usr/local/lib/python3.11/dist-packages (from tensorflow) (1.17.2)\n",
            "Requirement already satisfied: grpcio<2.0,>=1.24.3 in /usr/local/lib/python3.11/dist-packages (from tensorflow) (1.73.0)\n",
            "Requirement already satisfied: tensorboard<2.19,>=2.18 in /usr/local/lib/python3.11/dist-packages (from tensorflow) (2.18.0)\n",
            "Requirement already satisfied: keras>=3.5.0 in /usr/local/lib/python3.11/dist-packages (from tensorflow) (3.8.0)\n",
            "Requirement already satisfied: h5py>=3.11.0 in /usr/local/lib/python3.11/dist-packages (from tensorflow) (3.14.0)\n",
            "Requirement already satisfied: ml-dtypes<0.5.0,>=0.4.0 in /usr/local/lib/python3.11/dist-packages (from tensorflow) (0.4.1)\n",
            "Requirement already satisfied: tensorflow-io-gcs-filesystem>=0.23.1 in /usr/local/lib/python3.11/dist-packages (from tensorflow) (0.37.1)\n",
            "Requirement already satisfied: wheel<1.0,>=0.23.0 in /usr/local/lib/python3.11/dist-packages (from astunparse>=1.6.0->tensorflow) (0.45.1)\n",
            "Requirement already satisfied: rich in /usr/local/lib/python3.11/dist-packages (from keras>=3.5.0->tensorflow) (13.9.4)\n",
            "Requirement already satisfied: namex in /usr/local/lib/python3.11/dist-packages (from keras>=3.5.0->tensorflow) (0.1.0)\n",
            "Requirement already satisfied: optree in /usr/local/lib/python3.11/dist-packages (from keras>=3.5.0->tensorflow) (0.16.0)\n",
            "Requirement already satisfied: charset-normalizer<4,>=2 in /usr/local/lib/python3.11/dist-packages (from requests<3,>=2.21.0->tensorflow) (3.4.2)\n",
            "Requirement already satisfied: idna<4,>=2.5 in /usr/local/lib/python3.11/dist-packages (from requests<3,>=2.21.0->tensorflow) (3.10)\n",
            "Requirement already satisfied: urllib3<3,>=1.21.1 in /usr/local/lib/python3.11/dist-packages (from requests<3,>=2.21.0->tensorflow) (2.4.0)\n",
            "Requirement already satisfied: certifi>=2017.4.17 in /usr/local/lib/python3.11/dist-packages (from requests<3,>=2.21.0->tensorflow) (2025.6.15)\n",
            "Requirement already satisfied: markdown>=2.6.8 in /usr/local/lib/python3.11/dist-packages (from tensorboard<2.19,>=2.18->tensorflow) (3.8.2)\n",
            "Requirement already satisfied: tensorboard-data-server<0.8.0,>=0.7.0 in /usr/local/lib/python3.11/dist-packages (from tensorboard<2.19,>=2.18->tensorflow) (0.7.2)\n",
            "Requirement already satisfied: werkzeug>=1.0.1 in /usr/local/lib/python3.11/dist-packages (from tensorboard<2.19,>=2.18->tensorflow) (3.1.3)\n",
            "Requirement already satisfied: MarkupSafe>=2.1.1 in /usr/local/lib/python3.11/dist-packages (from werkzeug>=1.0.1->tensorboard<2.19,>=2.18->tensorflow) (3.0.2)\n",
            "Requirement already satisfied: markdown-it-py>=2.2.0 in /usr/local/lib/python3.11/dist-packages (from rich->keras>=3.5.0->tensorflow) (3.0.0)\n",
            "Requirement already satisfied: pygments<3.0.0,>=2.13.0 in /usr/local/lib/python3.11/dist-packages (from rich->keras>=3.5.0->tensorflow) (2.19.2)\n",
            "Requirement already satisfied: mdurl~=0.1 in /usr/local/lib/python3.11/dist-packages (from markdown-it-py>=2.2.0->rich->keras>=3.5.0->tensorflow) (0.1.2)\n"
          ]
        }
      ],
      "source": [
        "!pip install scipy numpy tensorflow\n"
      ]
    },
    {
      "cell_type": "code",
      "source": [
        "from google.colab import drive\n",
        "drive.mount('/content/drive')"
      ],
      "metadata": {
        "colab": {
          "base_uri": "https://localhost:8080/"
        },
        "id": "7yiQ5lQ3NNQM",
        "outputId": "eb4fb047-8f93-40b7-903b-4993ebb817a5"
      },
      "execution_count": 2,
      "outputs": [
        {
          "output_type": "stream",
          "name": "stdout",
          "text": [
            "Mounted at /content/drive\n"
          ]
        }
      ]
    },
    {
      "cell_type": "code",
      "source": [
        "!unzip eye_feature_smooth.zip\n"
      ],
      "metadata": {
        "colab": {
          "base_uri": "https://localhost:8080/"
        },
        "id": "jnGi78r9fu0R",
        "outputId": "24a083c4-ed46-4165-a2c8-d015c78e0b13"
      },
      "execution_count": 3,
      "outputs": [
        {
          "output_type": "stream",
          "name": "stdout",
          "text": [
            "Archive:  eye_feature_smooth.zip\n",
            "   creating: eye_feature_smooth/\n",
            "   creating: eye_feature_smooth/1/\n",
            "  inflating: eye_feature_smooth/1/10_20151014.mat  \n",
            "  inflating: eye_feature_smooth/1/11_20150916.mat  \n",
            "  inflating: eye_feature_smooth/1/12_20150725.mat  \n",
            "  inflating: eye_feature_smooth/1/13_20151115.mat  \n",
            "  inflating: eye_feature_smooth/1/14_20151205.mat  \n",
            "  inflating: eye_feature_smooth/1/15_20150508.mat  \n",
            "  inflating: eye_feature_smooth/1/1_20160518.mat  \n",
            "  inflating: eye_feature_smooth/1/2_20150915.mat  \n",
            "  inflating: eye_feature_smooth/1/3_20150919.mat  \n",
            "  inflating: eye_feature_smooth/1/4_20151111.mat  \n",
            "  inflating: eye_feature_smooth/1/5_20160406.mat  \n",
            "  inflating: eye_feature_smooth/1/6_20150507.mat  \n",
            "  inflating: eye_feature_smooth/1/7_20150715.mat  \n",
            "  inflating: eye_feature_smooth/1/8_20151103.mat  \n",
            "  inflating: eye_feature_smooth/1/9_20151028.mat  \n",
            "   creating: eye_feature_smooth/2/\n",
            "  inflating: eye_feature_smooth/2/10_20151021.mat  \n",
            "  inflating: eye_feature_smooth/2/11_20150921.mat  \n",
            "  inflating: eye_feature_smooth/2/12_20150804.mat  \n",
            "  inflating: eye_feature_smooth/2/13_20151125.mat  \n",
            "  inflating: eye_feature_smooth/2/14_20151208.mat  \n",
            "  inflating: eye_feature_smooth/2/15_20150514.mat  \n",
            "  inflating: eye_feature_smooth/2/1_20161125.mat  \n",
            "  inflating: eye_feature_smooth/2/2_20150920.mat  \n",
            "  inflating: eye_feature_smooth/2/3_20151018.mat  \n",
            "  inflating: eye_feature_smooth/2/4_20151118.mat  \n",
            "  inflating: eye_feature_smooth/2/5_20160413.mat  \n",
            "  inflating: eye_feature_smooth/2/6_20150511.mat  \n",
            "  inflating: eye_feature_smooth/2/7_20150717.mat  \n",
            "  inflating: eye_feature_smooth/2/8_20151110.mat  \n",
            "  inflating: eye_feature_smooth/2/9_20151119.mat  \n",
            "   creating: eye_feature_smooth/3/\n",
            "  inflating: eye_feature_smooth/3/10_20151023.mat  \n",
            "  inflating: eye_feature_smooth/3/11_20151011.mat  \n",
            "  inflating: eye_feature_smooth/3/12_20150807.mat  \n",
            "  inflating: eye_feature_smooth/3/13_20161130.mat  \n",
            "  inflating: eye_feature_smooth/3/14_20151215.mat  \n",
            "  inflating: eye_feature_smooth/3/15_20150527.mat  \n",
            "  inflating: eye_feature_smooth/3/1_20161126.mat  \n",
            "  inflating: eye_feature_smooth/3/2_20151012.mat  \n",
            "  inflating: eye_feature_smooth/3/3_20151101.mat  \n",
            "  inflating: eye_feature_smooth/3/4_20151123.mat  \n",
            "  inflating: eye_feature_smooth/3/5_20160420.mat  \n",
            "  inflating: eye_feature_smooth/3/6_20150512.mat  \n",
            "  inflating: eye_feature_smooth/3/7_20150721.mat  \n",
            "  inflating: eye_feature_smooth/3/8_20151117.mat  \n",
            "  inflating: eye_feature_smooth/3/9_20151209.mat  \n"
          ]
        }
      ]
    },
    {
      "cell_type": "code",
      "source": [
        "import scipy.io as sio\n",
        "import os\n",
        "import numpy as np\n",
        "import tensorflow as tf\n",
        "from tensorflow.keras.models import Sequential\n",
        "from tensorflow.keras.layers import Conv1D, MaxPooling1D, Flatten, Dense, Dropout, GlobalAveragePooling1D\n",
        "from sklearn.model_selection import train_test_split\n",
        "from tensorflow.keras.utils import to_categorical\n",
        "import matplotlib.pyplot as plt\n"
      ],
      "metadata": {
        "id": "5rSfXMnWiBzg"
      },
      "execution_count": 20,
      "outputs": []
    },
    {
      "cell_type": "code",
      "source": [
        "def load_session_data(path):\n",
        "    files = sorted(os.listdir(path))\n",
        "    data_list = []\n",
        "    for file in files:\n",
        "        if file.endswith('.mat') and 'eye' in file:\n",
        "            mat = sio.loadmat(os.path.join(path, file))\n",
        "            key = [k for k in mat.keys() if 'eye' in k]\n",
        "            if key:\n",
        "                data = mat[key[0]]\n",
        "                if data.size > 0:\n",
        "                    data_list.append(data)\n",
        "                else:\n",
        "                    print(f\"⚠️ Empty file skipped: {file}\")\n",
        "            else:\n",
        "                print(f\"⚠️ No eye data key in: {file}\")\n",
        "    return data_list\n",
        "\n",
        "# Adjust folder paths based on your unzip location\n",
        "session1 = load_session_data('/content/eye_feature_smooth/1')\n",
        "session2 = load_session_data('/content/eye_feature_smooth/2')\n",
        "session3 = load_session_data('/content/eye_feature_smooth/3')\n",
        "\n",
        "all_data = session1 + session2 + session3\n",
        "print(f\"Total valid trials loaded: {len(all_data)}\")\n"
      ],
      "metadata": {
        "colab": {
          "base_uri": "https://localhost:8080/"
        },
        "id": "UIUuvE8lf11T",
        "outputId": "3bdf41b1-0876-484b-d91f-36533949862c"
      },
      "execution_count": 21,
      "outputs": [
        {
          "output_type": "stream",
          "name": "stdout",
          "text": [
            "Total valid trials loaded: 0\n"
          ]
        }
      ]
    },
    {
      "cell_type": "code",
      "source": [
        "for idx, trial in enumerate(all_data):\n",
        "    print(f\"Trial {idx+1}: {trial.shape}\")\n",
        "\n",
        "X = np.array(all_data)\n",
        "print('Final Data Shape:', X.shape)  # Expected (72, 31, 34)\n"
      ],
      "metadata": {
        "colab": {
          "base_uri": "https://localhost:8080/"
        },
        "id": "jRG4LNLggnXP",
        "outputId": "76e3ac16-507a-4c0c-ac7d-59c4f63e8643"
      },
      "execution_count": 22,
      "outputs": [
        {
          "output_type": "stream",
          "name": "stdout",
          "text": [
            "Final Data Shape: (0,)\n"
          ]
        }
      ]
    },
    {
      "cell_type": "code",
      "source": [
        "X = np.array(all_data)  # Shape will be (72, 31, 34)\n",
        "print('Data shape:', X.shape)  # Should print (72, 31, 34)\n",
        "\n",
        "# Label creation\n",
        "labels = []\n",
        "for _ in range(3):  # 3 sessions\n",
        "    labels.extend([0]*6)   # Neutral\n",
        "    labels.extend([1]*6)   # Sad\n",
        "    labels.extend([2]*6)   # Fear\n",
        "    labels.extend([3]*6)   # Happy\n",
        "\n",
        "y = np.array(labels)\n",
        "print('Labels:', y.shape)  # Should print (72,)\n"
      ],
      "metadata": {
        "colab": {
          "base_uri": "https://localhost:8080/"
        },
        "id": "ym3GcJlEgWVR",
        "outputId": "99c15e68-83a4-453e-8c4b-a27f9c175f41"
      },
      "execution_count": 17,
      "outputs": [
        {
          "output_type": "stream",
          "name": "stdout",
          "text": [
            "Data shape: (0,)\n",
            "Labels: (72,)\n"
          ]
        }
      ]
    }
  ]
}